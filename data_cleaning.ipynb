{
 "cells": [
  {
   "cell_type": "markdown",
   "metadata": {},
   "source": [
    "## **DATA CLEANING**"
   ]
  },
  {
   "cell_type": "markdown",
   "metadata": {},
   "source": [
    "```c\n",
    "This took the longest amount of time and was very arduous.\n",
    "Given below are the criteria on the basis of which data was cleaned.\n",
    "```"
   ]
  },
  {
   "cell_type": "markdown",
   "metadata": {},
   "source": [
    "1. Empty tweets ie. tweets only containing images or gif were removed.\n",
    "\n",
    "2. Any repeating occuranced were removed. this step required the use of twitter handles being scraped as well as for short tweets such as :"
   ]
  },
  {
   "cell_type": "markdown",
   "metadata": {},
   "source": [
    ">\"i agree\"\n",
    ">\"good information\"\n"
   ]
  },
  {
   "cell_type": "markdown",
   "metadata": {},
   "source": [
    ": were repeated by multiple users and only tweets made by the same user that were recorded twice were discarded."
   ]
  },
  {
   "cell_type": "markdown",
   "metadata": {},
   "source": [
    "3. tweets containing ascii values other than that used in the english language were discarded.\n",
    "\n",
    "4. tweets containing multiple mentions of other users were shortened\n",
    "\n",
    "5. tweets containing multiple punctuations like \"??????\" and \"!!!!!\" were reduced to their single charecter equivalents.\n",
    "\n",
    "6. short forms and abbreviations like \"btw\" were expanded to their respective full forms.\n",
    "\n",
    "7. tweets that contained hindi or some other language written in english letters were selectively removed according to the amount of non english words used.\n",
    "\n",
    "8. tweets that were divided into multiple tweets were merged together in one sentence. this is also another reason for recording user handles. "
   ]
  }
 ],
 "metadata": {
  "language_info": {
   "name": "python"
  },
  "orig_nbformat": 4
 },
 "nbformat": 4,
 "nbformat_minor": 2
}
